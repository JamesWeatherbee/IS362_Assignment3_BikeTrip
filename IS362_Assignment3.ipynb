{
 "cells": [
  {
   "cell_type": "markdown",
   "metadata": {},
   "source": [
    "This pandas Series object shows the daily log of miles traveled each day while riding a bike from New York City to Key West Florida.  It also shows the cumulative miles at the end of each day."
   ]
  },
  {
   "cell_type": "markdown",
   "metadata": {},
   "source": [
    "To create this Series, first I imported pandas and numpy. "
   ]
  },
  {
   "cell_type": "code",
   "execution_count": 50,
   "metadata": {},
   "outputs": [],
   "source": [
    "from pandas import DataFrame\n",
    "import pandas as pd\n",
    "import numpy\n",
    "import matplotlib.pyplot as plt\n",
    "%matplotlib inline"
   ]
  },
  {
   "cell_type": "markdown",
   "metadata": {},
   "source": [
    "The trip took 29 days to ride the 1500 miles so I created an array from 1 to 29 to represent each day of the trip."
   ]
  },
  {
   "cell_type": "code",
   "execution_count": 39,
   "metadata": {
    "scrolled": true
   },
   "outputs": [
    {
     "data": {
      "text/plain": [
       "array([ 1,  2,  3,  4,  5,  6,  7,  8,  9, 10, 11, 12, 13, 14, 15, 16, 17,\n",
       "       18, 19, 20, 21, 22, 23, 24, 25, 26, 27, 28, 29])"
      ]
     },
     "execution_count": 39,
     "metadata": {},
     "output_type": "execute_result"
    }
   ],
   "source": [
    "days = numpy.arange(1,30)\n",
    "days"
   ]
  },
  {
   "cell_type": "markdown",
   "metadata": {},
   "source": [
    "Referencing the notebook from the trip, I then created an arrray with miles traveled for each day of the trip."
   ]
  },
  {
   "cell_type": "code",
   "execution_count": 40,
   "metadata": {},
   "outputs": [
    {
     "data": {
      "text/plain": [
       "[55,\n",
       " 65,\n",
       " 50,\n",
       " 60,\n",
       " 40,\n",
       " 35,\n",
       " 65,\n",
       " 62,\n",
       " 60,\n",
       " 53,\n",
       " 55,\n",
       " 45,\n",
       " 43,\n",
       " 50,\n",
       " 60,\n",
       " 50,\n",
       " 55,\n",
       " 57,\n",
       " 60,\n",
       " 30,\n",
       " 60,\n",
       " 50,\n",
       " 65,\n",
       " 65,\n",
       " 65,\n",
       " 50,\n",
       " 45,\n",
       " 47,\n",
       " 5]"
      ]
     },
     "execution_count": 40,
     "metadata": {},
     "output_type": "execute_result"
    }
   ],
   "source": [
    "miles_per_day = [55, 65, 50, 60, 40, 35, 65, 62, 60, 53, 55, 45, 43, 50, 60, 50, 55, 57, 60, 30, 60,\n",
    "        50, 65, 65, 65, 50, 45, 47, 5]\n",
    "miles_per_day"
   ]
  },
  {
   "cell_type": "markdown",
   "metadata": {},
   "source": [
    "To find the cumulative miles for each day of the trip, I assigned miles to a Series then used cumsum() to caluculate the running total of miles."
   ]
  },
  {
   "cell_type": "code",
   "execution_count": 47,
   "metadata": {},
   "outputs": [
    {
     "data": {
      "text/plain": [
       "0       55\n",
       "1      120\n",
       "2      170\n",
       "3      230\n",
       "4      270\n",
       "5      305\n",
       "6      370\n",
       "7      432\n",
       "8      492\n",
       "9      545\n",
       "10     600\n",
       "11     645\n",
       "12     688\n",
       "13     738\n",
       "14     798\n",
       "15     848\n",
       "16     903\n",
       "17     960\n",
       "18    1020\n",
       "19    1050\n",
       "20    1110\n",
       "21    1160\n",
       "22    1225\n",
       "23    1290\n",
       "24    1355\n",
       "25    1405\n",
       "26    1450\n",
       "27    1497\n",
       "28    1502\n",
       "dtype: int64"
      ]
     },
     "execution_count": 47,
     "metadata": {},
     "output_type": "execute_result"
    }
   ],
   "source": [
    "series = pd.Series(miles)\n",
    "cumsum = series.cumsum()\n",
    "cumsum"
   ]
  },
  {
   "cell_type": "markdown",
   "metadata": {},
   "source": [
    "Using zip, I combined the three arrays to create a DataFrame showing\n",
    "the combined data. I also labeled the columns and removed the index\n",
    "for easy viewing. "
   ]
  },
  {
   "cell_type": "code",
   "execution_count": 51,
   "metadata": {},
   "outputs": [
    {
     "name": "stdout",
     "output_type": "stream",
     "text": [
      " Day  Miles  Cumulative Miles\n",
      "   1     55                55\n",
      "   2     65               120\n",
      "   3     50               170\n",
      "   4     60               230\n",
      "   5     40               270\n",
      "   6     35               305\n",
      "   7     65               370\n",
      "   8     62               432\n",
      "   9     60               492\n",
      "  10     53               545\n",
      "  11     55               600\n",
      "  12     45               645\n",
      "  13     43               688\n",
      "  14     50               738\n",
      "  15     60               798\n",
      "  16     50               848\n",
      "  17     55               903\n",
      "  18     57               960\n",
      "  19     60              1020\n",
      "  20     30              1050\n",
      "  21     60              1110\n",
      "  22     50              1160\n",
      "  23     65              1225\n",
      "  24     65              1290\n",
      "  25     65              1355\n",
      "  26     50              1405\n",
      "  27     45              1450\n",
      "  28     47              1497\n",
      "  29      5              1502\n"
     ]
    }
   ],
   "source": [
    "daily_trip_log = list(zip(days, miles_per_day, cumsum))\n",
    "df = pd.DataFrame(data = daily_trip_log, columns=['Day', 'Miles',\n",
    "                                                 'Cumulative Miles'])\n",
    "print(df.to_string(index=False))"
   ]
  },
  {
   "cell_type": "markdown",
   "metadata": {},
   "source": [
    "Using this data, I created this line graph that shows the cumulative miles over the course of the 29 days. "
   ]
  },
  {
   "cell_type": "code",
   "execution_count": 122,
   "metadata": {
    "scrolled": false
   },
   "outputs": [
    {
     "data": {
      "image/png": "[encoded data removed]",
      "text/plain": [
       "<Figure size 432x288 with 1 Axes>"
      ]
     },
     "metadata": {
      "needs_background": "light"
     },
     "output_type": "display_data"
    }
   ],
   "source": [
    "plt.plot(days, cumsum)\n",
    "plt.xlabel('Day')\n",
    "plt.ylabel('Cumulative Miles')\n",
    "plt.show()"
   ]
  },
  {
   "cell_type": "markdown",
   "metadata": {},
   "source": [
    "This second chart shows the miles traveled each day of the trip."
   ]
  },
  {
   "cell_type": "code",
   "execution_count": 133,
   "metadata": {
    "scrolled": true
   },
   "outputs": [
    {
     "data": {
      "image/png": "[encoded data removed]",
      "text/plain": [
       "<Figure size 432x288 with 1 Axes>"
      ]
     },
     "metadata": {
      "needs_background": "light"
     },
     "output_type": "display_data"
    }
   ],
   "source": [
    "plt.plot(days, miles_per_day)\n",
    "plt.xlabel('Day')\n",
    "plt.ylabel('Miles per Day')\n",
    "plt.xticks(numpy.arange(0, len(days)+1, 2))\n",
    "plt.yticks(numpy.arange(0, max(miles_per_day), 5))\n",
    "plt.show()"
   ]
  }
 ],
 "metadata": {
  "kernelspec": {
   "display_name": "Python 3",
   "language": "python",
   "name": "python3"
  },
  "language_info": {
   "codemirror_mode": {
    "name": "ipython",
    "version": 3
   },
   "file_extension": ".py",
   "mimetype": "text/x-python",
   "name": "python",
   "nbconvert_exporter": "python",
   "pygments_lexer": "ipython3",
   "version": "3.8.5"
  }
 },
 "nbformat": 4,
 "nbformat_minor": 4
}
